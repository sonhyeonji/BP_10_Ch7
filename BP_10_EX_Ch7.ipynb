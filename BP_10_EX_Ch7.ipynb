{
  "nbformat": 4,
  "nbformat_minor": 0,
  "metadata": {
    "colab": {
      "provenance": [],
      "authorship_tag": "ABX9TyOXpDGpmYCwQuKvwPcO/Uiz",
      "include_colab_link": true
    },
    "kernelspec": {
      "name": "python3",
      "display_name": "Python 3"
    },
    "language_info": {
      "name": "python"
    }
  },
  "cells": [
    {
      "cell_type": "markdown",
      "metadata": {
        "id": "view-in-github",
        "colab_type": "text"
      },
      "source": [
        "<a href=\"https://colab.research.google.com/github/sonhyeonji/BP_10_Ch7/blob/main/BP_10_EX_Ch7.ipynb\" target=\"_parent\"><img src=\"https://colab.research.google.com/assets/colab-badge.svg\" alt=\"Open In Colab\"/></a>"
      ]
    },
    {
      "cell_type": "code",
      "execution_count": null,
      "metadata": {
        "id": "bm7VmRTa53wu"
      },
      "outputs": [],
      "source": [
        "import turtle #터틀 그래픽 모듈을 가져옴\n",
        "t=turtle.Turtle() #터틀 그래픽의 모든 기능을 사용한다는 것을 변수 t에 할당함\n",
        "t.shape(\"turtle\") #마우스 커셔 모양을 turtle로 만듬\n",
        "t.color(\"black\",\"white\") #터틀의 색을 black,white 만듬\n",
        "s=turtle.Screen(); s.bgcolor(\"skyblue\"); #스크린(배경)색을 skyblue로 만듬\n",
        "\n",
        "def draw_snowman(a,b): #draw_snowman()함수를 정의함\n",
        "  t.up() #펜을 올림\n",
        "  t.goto(a,b) #a,b으로 이동함\n",
        "  t.down() #펜을 내림\n",
        "  t.begin_fill() #색을 채움\n",
        "  t.circle(20) #원을 20크기로 그림\n",
        "  t.end_fill() #색 채우기를 끝냄\n",
        "  t.goto(a,b-25) #a,b-25으로 이동함\n",
        "  t.setheading(135) #터틀의 머리를 135를 향하게 만듬\n",
        "  t.forward(50) #앞으로 50만큼 이동함\n",
        "  t.backward(50) #뒤로 50만큼 이동함\n",
        "  \n",
        "  t.setheading(30) #터틀의 머리를 30를 향하게 만듬\n",
        "  t.forward(50) #앞으로 50만큼 이동함\n",
        "  t.backward(50) #뒤로 50만큼 이동함\n",
        "  t.setheading(0) #터틀의 머리를 0를 향하게 만듬\n",
        "  \n",
        "  t.begin_fill() #색을 채움\n",
        "  t.circle(15) #원을 15크기로 그림\n",
        "  t.end_fill() #색 채우기를 끝냄\n",
        "  t.goto(a,b-70) #a,b-70으로 이동함\n",
        "  t.begin_fill() #색을 채움\n",
        "  t.circle(30) #원을 30크기로 그림\n",
        "  t.end_fill() #색 채우기를 끝냄\n",
        "\n",
        "draw_snowman(0,0) #함수의 좌표 0,0에 위치\n",
        "draw_snowman(100,0) #함수의 좌표 100,0에 위치\n",
        "draw_snowman(200,0) #함수의 좌표 200,0에 위치"
      ]
    },
    {
      "cell_type": "code",
      "source": [
        "import turtle #터틀 그래픽 모듈을 가져옴\n",
        "t=turtle.Turtle() #터틀 그래픽의 모든 기능을 사용한다는 것을 변수 t에 할당함\n",
        "t.shape(\"turtle\") #마우스 커셔 모양을 turtle로 만듬\n",
        "t.speed(0) #터틀의 이동속도를 0으로 만듬\n",
        "t.color(\"white\",\"yellow\") #터틀의 색을 white,yellow 로만듬\n",
        "s=turtle.Screen(); s.bgcolor(\"black\"); #스크린(배경)색을 black로 만듬\n",
        "t.begin_fill() #색을 채움\n",
        "\n",
        "def hexagon(): #hexagon()함수를 정의함\n",
        "  for i in range(6): #6번 반복함\n",
        "    t.forward(100) #앞으로 50만큼 이동함\n",
        "    t.left(360/6) #왼쪽으로 360/6만큼 이동함\n",
        "\n",
        "for i in range(6): #6번 반복함\n",
        "  hexagon() #hexagon()를 그림\n",
        "  t.forward(100) #앞으로 50만큼 이동함\n",
        "  t.right(60) #오른쪽으로 60만큼 이동함\n",
        "t.end_fill() #색 채우기를 끝냄   "
      ],
      "metadata": {
        "id": "Nl4Uuzs5JvzJ"
      },
      "execution_count": null,
      "outputs": []
    },
    {
      "cell_type": "code",
      "source": [
        "import turtle #터틀 그래픽 모듈을 가져옴\n",
        "t=turtle.Turtle() #터틀 그래픽의 모든 기능을 사용한다는 것을 변수 t에 할당함\n",
        "t.shape(\"turtle\") #마우스 커셔 모양을 turtle로 만듬\n",
        "t.speed(0) #터틀의 이동속도를 0으로 만듬\n",
        "t.color(\"blue\") #터틀의 색을 blue로 만듬\n",
        "\n",
        "def f(x): #f(x)함수를 정의함\n",
        "  return x**2+1 #함수값을 반환함\n",
        "\n",
        "t.goto(200,0) #200,0으로 이동함\n",
        "t.goto(0,0) #0,0으로 이동함\n",
        "t.goto(0,200) #0,200으로 이동함\n",
        "t.goto(0,0) #0,0으로 이동함\n",
        "\n",
        "for x in range(150): #range함수를 이용해 반복함\n",
        "  t.goto(x,int(0.01*f(x))) #x,int(0.01*f(x))으로 이동함 #int를 이용하여 숫자를 만듬"
      ],
      "metadata": {
        "id": "eEapmdPYM-yA"
      },
      "execution_count": null,
      "outputs": []
    },
    {
      "cell_type": "code",
      "source": [
        "import turtle #터틀 그래픽 모듈을 가져옴\n",
        "t=turtle.Turtle() #터틀 그래픽의 모든 기능을 사용한다는 것을 변수 t에 할당함\n",
        "t.shape(\"turtle\") #마우스 커셔 모양을 turtle로 만듬\n",
        "t.speed(0) #터틀의 이동속도를 0으로 만듬\n",
        "t.color(\"yellow\") #터틀의 색을 yellow로 만듬\n",
        "s=turtle.Screen(); s.bgcolor(\"black\"); #스크린(배경)색을 black로 만듬\n",
        "\n",
        "def draw_line(): #draw_line()함수를 정의함\n",
        "  t.forward(100) #앞으로 100만큼 이동함\n",
        "  t.backward(100) #뒤로 100만큼 이동함\n",
        "for x in range(12): #range함수를 이용해 반복함\n",
        "  t.right(30) #오른쪽으로 30만큼 이동함\n",
        "  draw_line() #draw_line()사용함"
      ],
      "metadata": {
        "id": "K1reJ1aaNtT5"
      },
      "execution_count": null,
      "outputs": []
    },
    {
      "cell_type": "code",
      "source": [
        "def happyBirthday(person): #happyBirthday()함수를 정의함\n",
        " print(\"Happy Birthday to you!\") #\"Happy Birthday to you!\"를 출력함\n",
        " print(\"Happy Birthday to you!\") #\"Happy Birthday to you!\"를 출력함\n",
        " print(\"Happy Birthday, dear \" + person) #\"Happy Birthday, dear \" + person를 출력함\n",
        " print(\"Happy Birthday to you!\") #\"Happy Birthday to you!\"를 출력함\n",
        "happyBirthday(\"손현지\") #happyBirthday()함수를 사용함"
      ],
      "metadata": {
        "colab": {
          "base_uri": "https://localhost:8080/"
        },
        "id": "8daFJkhKO40I",
        "outputId": "a98094a6-8e32-4603-d08e-bf170504d257"
      },
      "execution_count": null,
      "outputs": [
        {
          "output_type": "stream",
          "name": "stdout",
          "text": [
            "Happy Birthday to you!\n",
            "Happy Birthday to you!\n",
            "Happy Birthday, dear 손현지\n",
            "Happy Birthday to you!\n"
          ]
        }
      ]
    },
    {
      "cell_type": "code",
      "source": [
        "def sumProblem(x, y): #sumProblem()함수를 정의함\n",
        "  sum = x + y #x+y를 변수 sum에 할당함\n",
        "  sentence =\"정수\" + str(x) + \"+\"+str(y)+\"의 합은?\" #\"정수\" + str(x) + \"+\"+str(y)+\"의 합은?\"을 변수 sentence에 할당함\n",
        "  print(sentence) #변수 sentence를 출력함\n",
        "\n",
        "def main(): #main()함수를 정의함\n",
        "  a = int(input(\"첫 번째 정수: \")) #int(input(\"첫 번째 정수: \"))를 변수 a에 할당함 #int를 사용하여 input값을 숫자로 받음\n",
        "  b = int(input(\"첫 번째 정수: \")) #int(input(\"첫 번째 정수: \"))를 변수 b에 할당함 #int를 사용하여 input값을 숫자로 받음\n",
        "  sumProblem(a, b) #sumProblem()에 변수 a,b를 넣음\n",
        "main() #main()를 사용함"
      ],
      "metadata": {
        "colab": {
          "base_uri": "https://localhost:8080/"
        },
        "id": "v8-MAFoBPG-Q",
        "outputId": "48568c9a-a4ef-4578-bf53-2ef41139720b"
      },
      "execution_count": null,
      "outputs": [
        {
          "output_type": "stream",
          "name": "stdout",
          "text": [
            "첫 번째 정수: 10\n",
            "두 번째 정수: 20\n",
            "정수10+20의 합은?\n"
          ]
        }
      ]
    },
    {
      "cell_type": "code",
      "source": [
        "PI = 3.14159265358979 #파이를 나타내는 전역변수\n",
        "def circleArea(radius): #circleArea(radius)함수를 정의함\n",
        "  return PI*radius*radius #함수값을 반환함\n",
        "def circleCircumference(radius): #circleCircumference(radius)함수를 정의함\n",
        "  return 2*PI*radius #함수값을 반환함\n",
        "def main(): #main()함수를 정의함\n",
        "  print('반지름이 5인 원의 면적:', circleArea(5)) #'반지름이 5인 원의 면적:', circleArea(5)를 출력함\n",
        "  print('반지름이 5인 원의 둘레:', circleCircumference(5)) #'반지름이 5인 원의 둘레:', circleCircumference(5)를 출력함\n",
        "main() #main()를 사용함"
      ],
      "metadata": {
        "colab": {
          "base_uri": "https://localhost:8080/"
        },
        "id": "SK8Y4Om0PQkA",
        "outputId": "421e05a4-61a3-48f2-89da-093641055a50"
      },
      "execution_count": null,
      "outputs": [
        {
          "output_type": "stream",
          "name": "stdout",
          "text": [
            "반지름이 5인 원의 면적: 78.53981633974475\n",
            "반지름이 5인 원의 둘레: 31.4159265358979\n"
          ]
        }
      ]
    },
    {
      "cell_type": "code",
      "source": [
        "def add(a, b): #add()함수를 정의함\n",
        "  print( \"(%d + %d)\" % (a, b), end=\" \") #\"(%d + %d)\" % (a, b), end=\" \"를 출력함\n",
        "  return a + b #함수값을 반환함\n",
        "def subtract(a, b): #subtract()함수를 정의함\n",
        "  print (\"(%d - %d)\" % (a, b), end=\" \") #\"(%d - %d)\" % (a, b), end=\" \"를 출력함\n",
        "  return a - b #함수값을 반환함\n",
        "def multiply(a, b): #multiply()함수를 정의함\n",
        "  print (\"(%d * %d)\" % (a, b), end=\" \") #\"(%d * %d)\" % (a, b), end=\" \"를 출력함\n",
        "  return a * b #함수값을 반환함\n",
        "def divide(a, b): #divide()함수를 정의함\n",
        "  print (\"(%d / %d)\" % (a, b), end=\" \") #\"(%d + %d)\" % (a, b), end=\" \"를 출력함\n",
        "  return a / b #함수값을 반환함\n",
        "what = add(20, 10) #add()함수를 변수 what에 할당함\n",
        "print(\"= \", what) #\"= \", what를 출력함"
      ],
      "metadata": {
        "colab": {
          "base_uri": "https://localhost:8080/"
        },
        "id": "M1dhLYGyPivz",
        "outputId": "14ad6c89-a4cd-4970-fb76-6040ac5533d0"
      },
      "execution_count": null,
      "outputs": [
        {
          "output_type": "stream",
          "name": "stdout",
          "text": [
            "(20 + 10) =  30\n"
          ]
        }
      ]
    }
  ]
}